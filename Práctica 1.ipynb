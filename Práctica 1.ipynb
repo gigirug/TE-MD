{
 "cells": [
  {
   "cell_type": "markdown",
   "metadata": {},
   "source": [
    "# Data Preprocessing\n",
    "## Librerías"
   ]
  },
  {
   "cell_type": "code",
   "execution_count": 1,
   "metadata": {},
   "outputs": [],
   "source": [
    "import numpy as np\n",
    "import matplotlib.pyplot as plt\n",
    "import missingno as msno\n",
    "import pandas as pd"
   ]
  },
  {
   "cell_type": "code",
   "execution_count": 2,
   "metadata": {},
   "outputs": [
    {
     "name": "stderr",
     "output_type": "stream",
     "text": [
      "C:\\Users\\Gio\\Anaconda3\\lib\\site-packages\\IPython\\core\\interactiveshell.py:3058: DtypeWarning: Columns (4,24) have mixed types. Specify dtype option on import or set low_memory=False.\n",
      "  interactivity=interactivity, compiler=compiler, result=result)\n"
     ]
    },
    {
     "data": {
      "text/html": [
       "<div>\n",
       "<style scoped>\n",
       "    .dataframe tbody tr th:only-of-type {\n",
       "        vertical-align: middle;\n",
       "    }\n",
       "\n",
       "    .dataframe tbody tr th {\n",
       "        vertical-align: top;\n",
       "    }\n",
       "\n",
       "    .dataframe thead th {\n",
       "        text-align: right;\n",
       "    }\n",
       "</style>\n",
       "<table border=\"1\" class=\"dataframe\">\n",
       "  <thead>\n",
       "    <tr style=\"text-align: right;\">\n",
       "      <th></th>\n",
       "      <th>folioviv</th>\n",
       "      <th>tipo_viv</th>\n",
       "      <th>mat_pared</th>\n",
       "      <th>mat_techos</th>\n",
       "      <th>mat_pisos</th>\n",
       "      <th>antiguedad</th>\n",
       "      <th>antigua_ne</th>\n",
       "      <th>cocina</th>\n",
       "      <th>cocina_dor</th>\n",
       "      <th>cuart_dorm</th>\n",
       "      <th>...</th>\n",
       "      <th>tot_hom</th>\n",
       "      <th>tot_muj</th>\n",
       "      <th>tot_hog</th>\n",
       "      <th>ubica_geo</th>\n",
       "      <th>tam_loc</th>\n",
       "      <th>est_socio</th>\n",
       "      <th>est_dis</th>\n",
       "      <th>upm</th>\n",
       "      <th>factor</th>\n",
       "      <th>procaptar</th>\n",
       "    </tr>\n",
       "  </thead>\n",
       "  <tbody>\n",
       "    <tr>\n",
       "      <td>0</td>\n",
       "      <td>100013601</td>\n",
       "      <td>1</td>\n",
       "      <td>8</td>\n",
       "      <td>10</td>\n",
       "      <td>3</td>\n",
       "      <td>42</td>\n",
       "      <td></td>\n",
       "      <td>1</td>\n",
       "      <td>2</td>\n",
       "      <td>4</td>\n",
       "      <td>...</td>\n",
       "      <td>2</td>\n",
       "      <td>1</td>\n",
       "      <td>1</td>\n",
       "      <td>1001</td>\n",
       "      <td>1</td>\n",
       "      <td>3</td>\n",
       "      <td>2</td>\n",
       "      <td>1</td>\n",
       "      <td>175</td>\n",
       "      <td>0</td>\n",
       "    </tr>\n",
       "    <tr>\n",
       "      <td>1</td>\n",
       "      <td>100013602</td>\n",
       "      <td>1</td>\n",
       "      <td>8</td>\n",
       "      <td>10</td>\n",
       "      <td>3</td>\n",
       "      <td>40</td>\n",
       "      <td></td>\n",
       "      <td>1</td>\n",
       "      <td>2</td>\n",
       "      <td>5</td>\n",
       "      <td>...</td>\n",
       "      <td>2</td>\n",
       "      <td>3</td>\n",
       "      <td>1</td>\n",
       "      <td>1001</td>\n",
       "      <td>1</td>\n",
       "      <td>3</td>\n",
       "      <td>2</td>\n",
       "      <td>1</td>\n",
       "      <td>175</td>\n",
       "      <td>0</td>\n",
       "    </tr>\n",
       "    <tr>\n",
       "      <td>2</td>\n",
       "      <td>100013603</td>\n",
       "      <td>1</td>\n",
       "      <td>8</td>\n",
       "      <td>10</td>\n",
       "      <td>3</td>\n",
       "      <td>50</td>\n",
       "      <td></td>\n",
       "      <td>1</td>\n",
       "      <td>2</td>\n",
       "      <td>2</td>\n",
       "      <td>...</td>\n",
       "      <td>1</td>\n",
       "      <td>1</td>\n",
       "      <td>1</td>\n",
       "      <td>1001</td>\n",
       "      <td>1</td>\n",
       "      <td>3</td>\n",
       "      <td>2</td>\n",
       "      <td>1</td>\n",
       "      <td>175</td>\n",
       "      <td>0</td>\n",
       "    </tr>\n",
       "    <tr>\n",
       "      <td>3</td>\n",
       "      <td>100013604</td>\n",
       "      <td>1</td>\n",
       "      <td>8</td>\n",
       "      <td>10</td>\n",
       "      <td>3</td>\n",
       "      <td>45</td>\n",
       "      <td></td>\n",
       "      <td>1</td>\n",
       "      <td>2</td>\n",
       "      <td>2</td>\n",
       "      <td>...</td>\n",
       "      <td>1</td>\n",
       "      <td>1</td>\n",
       "      <td>1</td>\n",
       "      <td>1001</td>\n",
       "      <td>1</td>\n",
       "      <td>3</td>\n",
       "      <td>2</td>\n",
       "      <td>1</td>\n",
       "      <td>175</td>\n",
       "      <td>0</td>\n",
       "    </tr>\n",
       "    <tr>\n",
       "      <td>4</td>\n",
       "      <td>100013606</td>\n",
       "      <td>1</td>\n",
       "      <td>8</td>\n",
       "      <td>10</td>\n",
       "      <td>3</td>\n",
       "      <td>40</td>\n",
       "      <td></td>\n",
       "      <td>1</td>\n",
       "      <td>2</td>\n",
       "      <td>3</td>\n",
       "      <td>...</td>\n",
       "      <td>1</td>\n",
       "      <td>3</td>\n",
       "      <td>1</td>\n",
       "      <td>1001</td>\n",
       "      <td>1</td>\n",
       "      <td>3</td>\n",
       "      <td>2</td>\n",
       "      <td>1</td>\n",
       "      <td>175</td>\n",
       "      <td>0</td>\n",
       "    </tr>\n",
       "  </tbody>\n",
       "</table>\n",
       "<p>5 rows × 64 columns</p>\n",
       "</div>"
      ],
      "text/plain": [
       "    folioviv tipo_viv  mat_pared  mat_techos mat_pisos antiguedad antigua_ne  \\\n",
       "0  100013601        1          8          10         3         42              \n",
       "1  100013602        1          8          10         3         40              \n",
       "2  100013603        1          8          10         3         50              \n",
       "3  100013604        1          8          10         3         45              \n",
       "4  100013606        1          8          10         3         40              \n",
       "\n",
       "   cocina cocina_dor  cuart_dorm  ...  tot_hom  tot_muj tot_hog  ubica_geo  \\\n",
       "0       1          2           4  ...        2        1       1       1001   \n",
       "1       1          2           5  ...        2        3       1       1001   \n",
       "2       1          2           2  ...        1        1       1       1001   \n",
       "3       1          2           2  ...        1        1       1       1001   \n",
       "4       1          2           3  ...        1        3       1       1001   \n",
       "\n",
       "  tam_loc est_socio est_dis upm factor procaptar  \n",
       "0       1         3       2   1    175         0  \n",
       "1       1         3       2   1    175         0  \n",
       "2       1         3       2   1    175         0  \n",
       "3       1         3       2   1    175         0  \n",
       "4       1         3       2   1    175         0  \n",
       "\n",
       "[5 rows x 64 columns]"
      ]
     },
     "execution_count": 2,
     "metadata": {},
     "output_type": "execute_result"
    }
   ],
   "source": [
    "#https://www.inegi.org.mx/programas/enigh/nc/2018/default.html#Microdatos\n",
    "path = 'viviendas.csv'\n",
    "df = pd.read_csv(path, encoding='latin', error_bad_lines=False)\n",
    "df.head()"
   ]
  },
  {
   "cell_type": "code",
   "execution_count": 3,
   "metadata": {},
   "outputs": [
    {
     "name": "stdout",
     "output_type": "stream",
     "text": [
      "<class 'pandas.core.frame.DataFrame'>\n",
      "RangeIndex: 73405 entries, 0 to 73404\n",
      "Data columns (total 64 columns):\n",
      "folioviv       73405 non-null int64\n",
      "tipo_viv       73405 non-null object\n",
      "mat_pared      73405 non-null int64\n",
      "mat_techos     73405 non-null int64\n",
      "mat_pisos      73405 non-null object\n",
      "antiguedad     73405 non-null object\n",
      "antigua_ne     73405 non-null object\n",
      "cocina         73405 non-null int64\n",
      "cocina_dor     73405 non-null object\n",
      "cuart_dorm     73405 non-null int64\n",
      "num_cuarto     73405 non-null int64\n",
      "disp_agua      73405 non-null int64\n",
      "dotac_agua     73405 non-null object\n",
      "excusado       73405 non-null int64\n",
      "uso_compar     73405 non-null object\n",
      "sanit_agua     73405 non-null object\n",
      "biodigest      73405 non-null object\n",
      "bano_comp      73405 non-null object\n",
      "bano_excus     73405 non-null object\n",
      "bano_regad     73405 non-null object\n",
      "drenaje        73405 non-null int64\n",
      "disp_elect     73405 non-null int64\n",
      "focos_inca     73405 non-null object\n",
      "focos_ahor     73405 non-null object\n",
      "combustible    73405 non-null object\n",
      "estufa_chi     73405 non-null object\n",
      "eli_basura     73405 non-null int64\n",
      "tenencia       73405 non-null int64\n",
      "renta          73405 non-null object\n",
      "estim_pago     73405 non-null object\n",
      "pago_viv       73405 non-null object\n",
      "pago_mesp      73405 non-null object\n",
      "tipo_adqui     73405 non-null object\n",
      "viv_usada      73405 non-null object\n",
      "tipo_finan     73405 non-null object\n",
      "num_dueno1     73405 non-null object\n",
      "hog_dueno1     73405 non-null object\n",
      "num_dueno2     73405 non-null object\n",
      "hog_dueno2     73405 non-null object\n",
      "escrituras     73405 non-null object\n",
      "lavadero       73405 non-null int64\n",
      "fregadero      73405 non-null int64\n",
      "regadera       73405 non-null int64\n",
      "tinaco_azo     73405 non-null int64\n",
      "cisterna       73405 non-null int64\n",
      "pileta         73405 non-null int64\n",
      "calent_sol     73405 non-null int64\n",
      "calent_gas     73405 non-null int64\n",
      "medidor_luz    73405 non-null int64\n",
      "bomba_agua     73405 non-null int64\n",
      "tanque_gas     73405 non-null int64\n",
      "aire_acond     73405 non-null int64\n",
      "calefacc       73405 non-null int64\n",
      "tot_resid      73405 non-null int64\n",
      "tot_hom        73405 non-null int64\n",
      "tot_muj        73405 non-null int64\n",
      "tot_hog        73405 non-null int64\n",
      "ubica_geo      73405 non-null int64\n",
      "tam_loc        73405 non-null int64\n",
      "est_socio      73405 non-null int64\n",
      "est_dis        73405 non-null int64\n",
      "upm            73405 non-null int64\n",
      "factor         73405 non-null int64\n",
      "procaptar      73405 non-null int64\n",
      "dtypes: int64(36), object(28)\n",
      "memory usage: 35.8+ MB\n"
     ]
    }
   ],
   "source": [
    "df.info()"
   ]
  },
  {
   "cell_type": "code",
   "execution_count": 4,
   "metadata": {},
   "outputs": [
    {
     "data": {
      "text/plain": [
       "(73405, 64)"
      ]
     },
     "execution_count": 4,
     "metadata": {},
     "output_type": "execute_result"
    }
   ],
   "source": [
    "df.shape"
   ]
  },
  {
   "cell_type": "code",
   "execution_count": 5,
   "metadata": {},
   "outputs": [
    {
     "data": {
      "text/plain": [
       "73405"
      ]
     },
     "execution_count": 5,
     "metadata": {},
     "output_type": "execute_result"
    }
   ],
   "source": [
    "df.shape[0]"
   ]
  },
  {
   "cell_type": "code",
   "execution_count": 6,
   "metadata": {},
   "outputs": [
    {
     "data": {
      "text/plain": [
       "64"
      ]
     },
     "execution_count": 6,
     "metadata": {},
     "output_type": "execute_result"
    }
   ],
   "source": [
    "df.shape[1]"
   ]
  },
  {
   "cell_type": "code",
   "execution_count": 7,
   "metadata": {},
   "outputs": [
    {
     "data": {
      "text/plain": [
       "['folioviv',\n",
       " 'tipo_viv',\n",
       " 'mat_pared',\n",
       " 'mat_techos',\n",
       " 'mat_pisos',\n",
       " 'antiguedad',\n",
       " 'antigua_ne',\n",
       " 'cocina',\n",
       " 'cocina_dor',\n",
       " 'cuart_dorm',\n",
       " 'num_cuarto',\n",
       " 'disp_agua',\n",
       " 'dotac_agua',\n",
       " 'excusado',\n",
       " 'uso_compar',\n",
       " 'sanit_agua',\n",
       " 'biodigest',\n",
       " 'bano_comp',\n",
       " 'bano_excus',\n",
       " 'bano_regad',\n",
       " 'drenaje',\n",
       " 'disp_elect',\n",
       " 'focos_inca',\n",
       " 'focos_ahor',\n",
       " 'combustible',\n",
       " 'estufa_chi',\n",
       " 'eli_basura',\n",
       " 'tenencia',\n",
       " 'renta',\n",
       " 'estim_pago',\n",
       " 'pago_viv',\n",
       " 'pago_mesp',\n",
       " 'tipo_adqui',\n",
       " 'viv_usada',\n",
       " 'tipo_finan',\n",
       " 'num_dueno1',\n",
       " 'hog_dueno1',\n",
       " 'num_dueno2',\n",
       " 'hog_dueno2',\n",
       " 'escrituras',\n",
       " 'lavadero',\n",
       " 'fregadero',\n",
       " 'regadera',\n",
       " 'tinaco_azo',\n",
       " 'cisterna',\n",
       " 'pileta',\n",
       " 'calent_sol',\n",
       " 'calent_gas',\n",
       " 'medidor_luz',\n",
       " 'bomba_agua',\n",
       " 'tanque_gas',\n",
       " 'aire_acond',\n",
       " 'calefacc',\n",
       " 'tot_resid',\n",
       " 'tot_hom',\n",
       " 'tot_muj',\n",
       " 'tot_hog',\n",
       " 'ubica_geo',\n",
       " 'tam_loc',\n",
       " 'est_socio',\n",
       " 'est_dis',\n",
       " 'upm',\n",
       " 'factor',\n",
       " 'procaptar']"
      ]
     },
     "execution_count": 7,
     "metadata": {},
     "output_type": "execute_result"
    }
   ],
   "source": [
    "df.columns.values.tolist()"
   ]
  },
  {
   "cell_type": "code",
   "execution_count": 8,
   "metadata": {},
   "outputs": [
    {
     "data": {
      "text/plain": [
       "folioviv       int64\n",
       "tipo_viv      object\n",
       "mat_pared      int64\n",
       "mat_techos     int64\n",
       "mat_pisos     object\n",
       "               ...  \n",
       "est_socio      int64\n",
       "est_dis        int64\n",
       "upm            int64\n",
       "factor         int64\n",
       "procaptar      int64\n",
       "Length: 64, dtype: object"
      ]
     },
     "execution_count": 8,
     "metadata": {},
     "output_type": "execute_result"
    }
   ],
   "source": [
    "df.dtypes"
   ]
  },
  {
   "cell_type": "code",
   "execution_count": 9,
   "metadata": {},
   "outputs": [
    {
     "data": {
      "text/plain": [
       "False"
      ]
     },
     "execution_count": 9,
     "metadata": {},
     "output_type": "execute_result"
    }
   ],
   "source": [
    "df.isnull().any().any()"
   ]
  },
  {
   "cell_type": "code",
   "execution_count": 10,
   "metadata": {},
   "outputs": [
    {
     "data": {
      "text/plain": [
       "<matplotlib.axes._subplots.AxesSubplot at 0xb7974c8>"
      ]
     },
     "execution_count": 10,
     "metadata": {},
     "output_type": "execute_result"
    },
    {
     "data": {
      "image/png": "[encoded data removed]",
      "text/plain": [
       "<Figure size 1800x720 with 2 Axes>"
      ]
     },
     "metadata": {
      "needs_background": "light"
     },
     "output_type": "display_data"
    }
   ],
   "source": [
    "msno.matrix(df)"
   ]
  },
  {
   "cell_type": "code",
   "execution_count": 11,
   "metadata": {},
   "outputs": [],
   "source": [
    "df.replace({' ': np.nan}, inplace=True)"
   ]
  },
  {
   "cell_type": "code",
   "execution_count": 12,
   "metadata": {},
   "outputs": [
    {
     "data": {
      "text/plain": [
       "True"
      ]
     },
     "execution_count": 12,
     "metadata": {},
     "output_type": "execute_result"
    }
   ],
   "source": [
    "df.isnull().any().any()"
   ]
  },
  {
   "cell_type": "code",
   "execution_count": 13,
   "metadata": {},
   "outputs": [
    {
     "data": {
      "text/plain": [
       "<matplotlib.axes._subplots.AxesSubplot at 0xcbc3b08>"
      ]
     },
     "execution_count": 13,
     "metadata": {},
     "output_type": "execute_result"
    },
    {
     "data": {
      "image/png": "[encoded data removed]",
      "text/plain": [
       "<Figure size 1800x720 with 2 Axes>"
      ]
     },
     "metadata": {
      "needs_background": "light"
     },
     "output_type": "display_data"
    }
   ],
   "source": [
    "msno.matrix(df)"
   ]
  },
  {
   "cell_type": "code",
   "execution_count": 14,
   "metadata": {},
   "outputs": [
    {
     "data": {
      "text/plain": [
       "<matplotlib.axes._subplots.AxesSubplot at 0xa1e5288>"
      ]
     },
     "execution_count": 14,
     "metadata": {},
     "output_type": "execute_result"
    },
    {
     "data": {
      "image/png": "[encoded data removed]",
      "text/plain": [
       "<Figure size 1728x720 with 2 Axes>"
      ]
     },
     "metadata": {
      "needs_background": "light"
     },
     "output_type": "display_data"
    }
   ],
   "source": [
    "msno.bar(df)"
   ]
  },
  {
   "cell_type": "code",
   "execution_count": 15,
   "metadata": {},
   "outputs": [
    {
     "data": {
      "text/plain": [
       "True"
      ]
     },
     "execution_count": 15,
     "metadata": {},
     "output_type": "execute_result"
    }
   ],
   "source": [
    "df.isnull().any().any()"
   ]
  },
  {
   "cell_type": "code",
   "execution_count": 16,
   "metadata": {},
   "outputs": [
    {
     "data": {
      "text/plain": [
       "['antiguedad',\n",
       " 'antigua_ne',\n",
       " 'cocina_dor',\n",
       " 'dotac_agua',\n",
       " 'uso_compar',\n",
       " 'sanit_agua',\n",
       " 'biodigest',\n",
       " 'bano_comp',\n",
       " 'bano_excus',\n",
       " 'bano_regad',\n",
       " 'focos_inca',\n",
       " 'focos_ahor',\n",
       " 'estufa_chi',\n",
       " 'renta',\n",
       " 'estim_pago',\n",
       " 'pago_viv',\n",
       " 'pago_mesp',\n",
       " 'tipo_adqui',\n",
       " 'viv_usada',\n",
       " 'tipo_finan',\n",
       " 'num_dueno1',\n",
       " 'hog_dueno1',\n",
       " 'num_dueno2',\n",
       " 'hog_dueno2',\n",
       " 'escrituras']"
      ]
     },
     "execution_count": 16,
     "metadata": {},
     "output_type": "execute_result"
    }
   ],
   "source": [
    "df.columns[df.isnull().any()].tolist()"
   ]
  },
  {
   "cell_type": "code",
   "execution_count": 17,
   "metadata": {},
   "outputs": [
    {
     "data": {
      "text/html": [
       "<div>\n",
       "<style scoped>\n",
       "    .dataframe tbody tr th:only-of-type {\n",
       "        vertical-align: middle;\n",
       "    }\n",
       "\n",
       "    .dataframe tbody tr th {\n",
       "        vertical-align: top;\n",
       "    }\n",
       "\n",
       "    .dataframe thead th {\n",
       "        text-align: right;\n",
       "    }\n",
       "</style>\n",
       "<table border=\"1\" class=\"dataframe\">\n",
       "  <thead>\n",
       "    <tr style=\"text-align: right;\">\n",
       "      <th></th>\n",
       "      <th>folioviv</th>\n",
       "      <th>mat_pared</th>\n",
       "      <th>mat_techos</th>\n",
       "      <th>cocina</th>\n",
       "      <th>cuart_dorm</th>\n",
       "      <th>num_cuarto</th>\n",
       "      <th>disp_agua</th>\n",
       "      <th>excusado</th>\n",
       "      <th>drenaje</th>\n",
       "      <th>disp_elect</th>\n",
       "      <th>...</th>\n",
       "      <th>tot_hom</th>\n",
       "      <th>tot_muj</th>\n",
       "      <th>tot_hog</th>\n",
       "      <th>ubica_geo</th>\n",
       "      <th>tam_loc</th>\n",
       "      <th>est_socio</th>\n",
       "      <th>est_dis</th>\n",
       "      <th>upm</th>\n",
       "      <th>factor</th>\n",
       "      <th>procaptar</th>\n",
       "    </tr>\n",
       "  </thead>\n",
       "  <tbody>\n",
       "    <tr>\n",
       "      <td>count</td>\n",
       "      <td>7.340500e+04</td>\n",
       "      <td>73405.000000</td>\n",
       "      <td>73405.000000</td>\n",
       "      <td>73405.000000</td>\n",
       "      <td>73405.000000</td>\n",
       "      <td>73405.000000</td>\n",
       "      <td>73405.000000</td>\n",
       "      <td>73405.000000</td>\n",
       "      <td>73405.000000</td>\n",
       "      <td>73405.000000</td>\n",
       "      <td>...</td>\n",
       "      <td>73405.000000</td>\n",
       "      <td>73405.000000</td>\n",
       "      <td>73405.000000</td>\n",
       "      <td>73405.000000</td>\n",
       "      <td>73405.000000</td>\n",
       "      <td>73405.000000</td>\n",
       "      <td>73405.000000</td>\n",
       "      <td>73405.000000</td>\n",
       "      <td>73405.000000</td>\n",
       "      <td>73405.000000</td>\n",
       "    </tr>\n",
       "    <tr>\n",
       "      <td>mean</td>\n",
       "      <td>1.614521e+09</td>\n",
       "      <td>7.746707</td>\n",
       "      <td>8.263443</td>\n",
       "      <td>1.079273</td>\n",
       "      <td>2.029576</td>\n",
       "      <td>3.671289</td>\n",
       "      <td>1.626156</td>\n",
       "      <td>1.027205</td>\n",
       "      <td>1.563013</td>\n",
       "      <td>1.052789</td>\n",
       "      <td>...</td>\n",
       "      <td>1.793842</td>\n",
       "      <td>1.873564</td>\n",
       "      <td>1.016920</td>\n",
       "      <td>15928.225530</td>\n",
       "      <td>2.540767</td>\n",
       "      <td>2.057694</td>\n",
       "      <td>255.147211</td>\n",
       "      <td>4296.518384</td>\n",
       "      <td>465.303658</td>\n",
       "      <td>0.009686</td>\n",
       "    </tr>\n",
       "    <tr>\n",
       "      <td>std</td>\n",
       "      <td>9.310381e+08</td>\n",
       "      <td>0.764356</td>\n",
       "      <td>2.840912</td>\n",
       "      <td>0.270165</td>\n",
       "      <td>0.903999</td>\n",
       "      <td>1.508362</td>\n",
       "      <td>1.456174</td>\n",
       "      <td>0.162682</td>\n",
       "      <td>1.044183</td>\n",
       "      <td>0.416187</td>\n",
       "      <td>...</td>\n",
       "      <td>1.187294</td>\n",
       "      <td>1.225221</td>\n",
       "      <td>0.149335</td>\n",
       "      <td>9322.666345</td>\n",
       "      <td>1.316218</td>\n",
       "      <td>0.815350</td>\n",
       "      <td>158.270099</td>\n",
       "      <td>2413.731583</td>\n",
       "      <td>485.572259</td>\n",
       "      <td>0.097940</td>\n",
       "    </tr>\n",
       "    <tr>\n",
       "      <td>min</td>\n",
       "      <td>1.000136e+08</td>\n",
       "      <td>1.000000</td>\n",
       "      <td>1.000000</td>\n",
       "      <td>1.000000</td>\n",
       "      <td>1.000000</td>\n",
       "      <td>1.000000</td>\n",
       "      <td>1.000000</td>\n",
       "      <td>1.000000</td>\n",
       "      <td>1.000000</td>\n",
       "      <td>1.000000</td>\n",
       "      <td>...</td>\n",
       "      <td>0.000000</td>\n",
       "      <td>0.000000</td>\n",
       "      <td>1.000000</td>\n",
       "      <td>1001.000000</td>\n",
       "      <td>1.000000</td>\n",
       "      <td>1.000000</td>\n",
       "      <td>1.000000</td>\n",
       "      <td>1.000000</td>\n",
       "      <td>9.000000</td>\n",
       "      <td>0.000000</td>\n",
       "    </tr>\n",
       "    <tr>\n",
       "      <td>25%</td>\n",
       "      <td>8.044994e+08</td>\n",
       "      <td>8.000000</td>\n",
       "      <td>7.000000</td>\n",
       "      <td>1.000000</td>\n",
       "      <td>1.000000</td>\n",
       "      <td>3.000000</td>\n",
       "      <td>1.000000</td>\n",
       "      <td>1.000000</td>\n",
       "      <td>1.000000</td>\n",
       "      <td>1.000000</td>\n",
       "      <td>...</td>\n",
       "      <td>1.000000</td>\n",
       "      <td>1.000000</td>\n",
       "      <td>1.000000</td>\n",
       "      <td>8019.000000</td>\n",
       "      <td>1.000000</td>\n",
       "      <td>2.000000</td>\n",
       "      <td>118.000000</td>\n",
       "      <td>2263.000000</td>\n",
       "      <td>170.000000</td>\n",
       "      <td>0.000000</td>\n",
       "    </tr>\n",
       "    <tr>\n",
       "      <td>50%</td>\n",
       "      <td>1.562126e+09</td>\n",
       "      <td>8.000000</td>\n",
       "      <td>10.000000</td>\n",
       "      <td>1.000000</td>\n",
       "      <td>2.000000</td>\n",
       "      <td>4.000000</td>\n",
       "      <td>1.000000</td>\n",
       "      <td>1.000000</td>\n",
       "      <td>1.000000</td>\n",
       "      <td>1.000000</td>\n",
       "      <td>...</td>\n",
       "      <td>2.000000</td>\n",
       "      <td>2.000000</td>\n",
       "      <td>1.000000</td>\n",
       "      <td>15121.000000</td>\n",
       "      <td>3.000000</td>\n",
       "      <td>2.000000</td>\n",
       "      <td>248.000000</td>\n",
       "      <td>4289.000000</td>\n",
       "      <td>323.000000</td>\n",
       "      <td>0.000000</td>\n",
       "    </tr>\n",
       "    <tr>\n",
       "      <td>75%</td>\n",
       "      <td>2.403854e+09</td>\n",
       "      <td>8.000000</td>\n",
       "      <td>10.000000</td>\n",
       "      <td>1.000000</td>\n",
       "      <td>3.000000</td>\n",
       "      <td>4.000000</td>\n",
       "      <td>2.000000</td>\n",
       "      <td>1.000000</td>\n",
       "      <td>2.000000</td>\n",
       "      <td>1.000000</td>\n",
       "      <td>...</td>\n",
       "      <td>2.000000</td>\n",
       "      <td>3.000000</td>\n",
       "      <td>1.000000</td>\n",
       "      <td>24028.000000</td>\n",
       "      <td>4.000000</td>\n",
       "      <td>2.000000</td>\n",
       "      <td>385.000000</td>\n",
       "      <td>6386.000000</td>\n",
       "      <td>594.000000</td>\n",
       "      <td>0.000000</td>\n",
       "    </tr>\n",
       "    <tr>\n",
       "      <td>max</td>\n",
       "      <td>3.260799e+09</td>\n",
       "      <td>8.000000</td>\n",
       "      <td>10.000000</td>\n",
       "      <td>2.000000</td>\n",
       "      <td>11.000000</td>\n",
       "      <td>22.000000</td>\n",
       "      <td>7.000000</td>\n",
       "      <td>2.000000</td>\n",
       "      <td>5.000000</td>\n",
       "      <td>5.000000</td>\n",
       "      <td>...</td>\n",
       "      <td>11.000000</td>\n",
       "      <td>12.000000</td>\n",
       "      <td>5.000000</td>\n",
       "      <td>32056.000000</td>\n",
       "      <td>4.000000</td>\n",
       "      <td>4.000000</td>\n",
       "      <td>543.000000</td>\n",
       "      <td>8395.000000</td>\n",
       "      <td>6727.000000</td>\n",
       "      <td>1.000000</td>\n",
       "    </tr>\n",
       "  </tbody>\n",
       "</table>\n",
       "<p>8 rows × 36 columns</p>\n",
       "</div>"
      ],
      "text/plain": [
       "           folioviv     mat_pared    mat_techos        cocina    cuart_dorm  \\\n",
       "count  7.340500e+04  73405.000000  73405.000000  73405.000000  73405.000000   \n",
       "mean   1.614521e+09      7.746707      8.263443      1.079273      2.029576   \n",
       "std    9.310381e+08      0.764356      2.840912      0.270165      0.903999   \n",
       "min    1.000136e+08      1.000000      1.000000      1.000000      1.000000   \n",
       "25%    8.044994e+08      8.000000      7.000000      1.000000      1.000000   \n",
       "50%    1.562126e+09      8.000000     10.000000      1.000000      2.000000   \n",
       "75%    2.403854e+09      8.000000     10.000000      1.000000      3.000000   \n",
       "max    3.260799e+09      8.000000     10.000000      2.000000     11.000000   \n",
       "\n",
       "         num_cuarto     disp_agua      excusado       drenaje    disp_elect  \\\n",
       "count  73405.000000  73405.000000  73405.000000  73405.000000  73405.000000   \n",
       "mean       3.671289      1.626156      1.027205      1.563013      1.052789   \n",
       "std        1.508362      1.456174      0.162682      1.044183      0.416187   \n",
       "min        1.000000      1.000000      1.000000      1.000000      1.000000   \n",
       "25%        3.000000      1.000000      1.000000      1.000000      1.000000   \n",
       "50%        4.000000      1.000000      1.000000      1.000000      1.000000   \n",
       "75%        4.000000      2.000000      1.000000      2.000000      1.000000   \n",
       "max       22.000000      7.000000      2.000000      5.000000      5.000000   \n",
       "\n",
       "       ...       tot_hom       tot_muj       tot_hog     ubica_geo  \\\n",
       "count  ...  73405.000000  73405.000000  73405.000000  73405.000000   \n",
       "mean   ...      1.793842      1.873564      1.016920  15928.225530   \n",
       "std    ...      1.187294      1.225221      0.149335   9322.666345   \n",
       "min    ...      0.000000      0.000000      1.000000   1001.000000   \n",
       "25%    ...      1.000000      1.000000      1.000000   8019.000000   \n",
       "50%    ...      2.000000      2.000000      1.000000  15121.000000   \n",
       "75%    ...      2.000000      3.000000      1.000000  24028.000000   \n",
       "max    ...     11.000000     12.000000      5.000000  32056.000000   \n",
       "\n",
       "            tam_loc     est_socio       est_dis           upm        factor  \\\n",
       "count  73405.000000  73405.000000  73405.000000  73405.000000  73405.000000   \n",
       "mean       2.540767      2.057694    255.147211   4296.518384    465.303658   \n",
       "std        1.316218      0.815350    158.270099   2413.731583    485.572259   \n",
       "min        1.000000      1.000000      1.000000      1.000000      9.000000   \n",
       "25%        1.000000      2.000000    118.000000   2263.000000    170.000000   \n",
       "50%        3.000000      2.000000    248.000000   4289.000000    323.000000   \n",
       "75%        4.000000      2.000000    385.000000   6386.000000    594.000000   \n",
       "max        4.000000      4.000000    543.000000   8395.000000   6727.000000   \n",
       "\n",
       "          procaptar  \n",
       "count  73405.000000  \n",
       "mean       0.009686  \n",
       "std        0.097940  \n",
       "min        0.000000  \n",
       "25%        0.000000  \n",
       "50%        0.000000  \n",
       "75%        0.000000  \n",
       "max        1.000000  \n",
       "\n",
       "[8 rows x 36 columns]"
      ]
     },
     "execution_count": 17,
     "metadata": {},
     "output_type": "execute_result"
    }
   ],
   "source": [
    "df.describe()"
   ]
  },
  {
   "cell_type": "code",
   "execution_count": null,
   "metadata": {},
   "outputs": [],
   "source": []
  },
  {
   "cell_type": "code",
   "execution_count": null,
   "metadata": {},
   "outputs": [],
   "source": []
  },
  {
   "cell_type": "code",
   "execution_count": null,
   "metadata": {},
   "outputs": [],
   "source": []
  }
 ],
 "metadata": {
  "kernelspec": {
   "display_name": "Python 3",
   "language": "python",
   "name": "python3"
  },
  "language_info": {
   "codemirror_mode": {
    "name": "ipython",
    "version": 3
   },
   "file_extension": ".py",
   "mimetype": "text/x-python",
   "name": "python",
   "nbconvert_exporter": "python",
   "pygments_lexer": "ipython3",
   "version": "3.7.4"
  }
 },
 "nbformat": 4,
 "nbformat_minor": 2
}
